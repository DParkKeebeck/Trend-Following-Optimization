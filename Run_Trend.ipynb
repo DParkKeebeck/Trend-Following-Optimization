{
 "cells": [
  {
   "cell_type": "code",
   "execution_count": 1,
   "metadata": {},
   "outputs": [],
   "source": [
    "import numpy as np\n",
    "import pandas as pd\n",
    "import bt\n",
    "import matplotlib.pyplot as plt\n",
    "%matplotlib inline\n",
    "\n",
    "from Algo_Helpers import Signal, WeighFromSignal\n"
   ]
  },
  {
   "cell_type": "code",
   "execution_count": 2,
   "metadata": {},
   "outputs": [],
   "source": [
    "pdf = bt.get('aapl,msft,c,ge,gs', start='2010-01-01')\n",
    "#pdf = pdf.pct_change(1) # 1 for ONE DAY lookback\n"
   ]
  },
  {
   "cell_type": "code",
   "execution_count": 3,
   "metadata": {},
   "outputs": [],
   "source": [
    "runMonthlyAlgo = bt.algos.RunMonthly()\n",
    "rebalAlgo = bt.algos.Rebalance()"
   ]
  },
  {
   "cell_type": "code",
   "execution_count": 4,
   "metadata": {},
   "outputs": [],
   "source": [
    "signalAlgo = Signal(pd.DateOffset(months=12),pd.DateOffset(months=1))\n",
    "#signalAlgo = Signal()\n",
    "\n"
   ]
  },
  {
   "cell_type": "code",
   "execution_count": 5,
   "metadata": {},
   "outputs": [],
   "source": [
    "weighFromSignalAlgo = WeighFromSignal()"
   ]
  },
  {
   "cell_type": "code",
   "execution_count": 6,
   "metadata": {},
   "outputs": [
    {
     "name": "stdout",
     "output_type": "stream",
     "text": [
      "example1\n"
     ]
    },
    {
     "data": {
      "text/plain": [
       "{'aapl': 0, 'msft': 0, 'c': 0, 'ge': 0, 'gs': 0}"
      ]
     },
     "metadata": {},
     "output_type": "display_data"
    },
    {
     "data": {
      "text/plain": [
       "{'aapl': 0, 'msft': 0, 'c': 0, 'ge': 0, 'gs': 0}"
      ]
     },
     "metadata": {},
     "output_type": "display_data"
    },
    {
     "data": {
      "text/plain": [
       "{'aapl': 0, 'msft': 0, 'c': 0, 'ge': 0, 'gs': 0}"
      ]
     },
     "metadata": {},
     "output_type": "display_data"
    },
    {
     "data": {
      "text/plain": [
       "{'aapl': 0, 'msft': 0, 'c': 0, 'ge': 0, 'gs': 0}"
      ]
     },
     "metadata": {},
     "output_type": "display_data"
    },
    {
     "name": "stdout",
     "output_type": "stream",
     "text": [
      "0% [#                             ] 100% | ETA: 00:00:01"
     ]
    },
    {
     "data": {
      "text/plain": [
       "{'aapl': 0, 'msft': 0, 'c': 0, 'ge': 0, 'gs': 0}"
      ]
     },
     "metadata": {},
     "output_type": "display_data"
    },
    {
     "data": {
      "text/plain": [
       "{'aapl': 0, 'msft': 0, 'c': 0, 'ge': 0, 'gs': 0}"
      ]
     },
     "metadata": {},
     "output_type": "display_data"
    },
    {
     "data": {
      "text/plain": [
       "{'aapl': 0, 'msft': 0, 'c': 0, 'ge': 0, 'gs': 0}"
      ]
     },
     "metadata": {},
     "output_type": "display_data"
    },
    {
     "data": {
      "text/plain": [
       "{'aapl': 0, 'msft': 0, 'c': 0, 'ge': 0, 'gs': 0}"
      ]
     },
     "metadata": {},
     "output_type": "display_data"
    },
    {
     "data": {
      "text/plain": [
       "{'aapl': 0, 'msft': 0, 'c': 0, 'ge': 0, 'gs': 0}"
      ]
     },
     "metadata": {},
     "output_type": "display_data"
    },
    {
     "name": "stdout",
     "output_type": "stream",
     "text": [
      "0% [##                            ] 100% | ETA: 00:00:01"
     ]
    },
    {
     "data": {
      "text/plain": [
       "{'aapl': 0, 'msft': 0, 'c': 0, 'ge': 0, 'gs': 0}"
      ]
     },
     "metadata": {},
     "output_type": "display_data"
    },
    {
     "data": {
      "text/plain": [
       "{'aapl': 0, 'msft': 0, 'c': 0, 'ge': 0, 'gs': 0}"
      ]
     },
     "metadata": {},
     "output_type": "display_data"
    },
    {
     "data": {
      "text/plain": [
       "{'aapl': 0, 'msft': 0, 'c': 0, 'ge': 0, 'gs': 0}"
      ]
     },
     "metadata": {},
     "output_type": "display_data"
    },
    {
     "data": {
      "text/plain": [
       "{'aapl': 1, 'msft': 1, 'c': 1, 'ge': 1, 'gs': 1}"
      ]
     },
     "metadata": {},
     "output_type": "display_data"
    },
    {
     "data": {
      "text/plain": [
       "{'aapl': 1, 'msft': 0, 'c': 1, 'ge': 1, 'gs': 1}"
      ]
     },
     "metadata": {},
     "output_type": "display_data"
    },
    {
     "name": "stdout",
     "output_type": "stream",
     "text": [
      "0% [###                           ] 100% | ETA: 00:00:01"
     ]
    },
    {
     "data": {
      "text/plain": [
       "{'aapl': 1, 'msft': 0, 'c': 1, 'ge': 1, 'gs': 0}"
      ]
     },
     "metadata": {},
     "output_type": "display_data"
    },
    {
     "data": {
      "text/plain": [
       "{'aapl': 1, 'msft': 0, 'c': 1, 'ge': 1, 'gs': 1}"
      ]
     },
     "metadata": {},
     "output_type": "display_data"
    },
    {
     "data": {
      "text/plain": [
       "{'aapl': 1, 'msft': 0, 'c': 1, 'ge': 1, 'gs': 0}"
      ]
     },
     "metadata": {},
     "output_type": "display_data"
    },
    {
     "data": {
      "text/plain": [
       "{'aapl': 1, 'msft': 1, 'c': 1, 'ge': 1, 'gs': 1}"
      ]
     },
     "metadata": {},
     "output_type": "display_data"
    },
    {
     "data": {
      "text/plain": [
       "{'aapl': 1, 'msft': 1, 'c': 0, 'ge': 1, 'gs': 0}"
      ]
     },
     "metadata": {},
     "output_type": "display_data"
    },
    {
     "name": "stdout",
     "output_type": "stream",
     "text": [
      "0% [####                          ] 100% | ETA: 00:00:01"
     ]
    },
    {
     "data": {
      "text/plain": [
       "{'aapl': 1, 'msft': 1, 'c': 0, 'ge': 1, 'gs': 0}"
      ]
     },
     "metadata": {},
     "output_type": "display_data"
    },
    {
     "data": {
      "text/plain": [
       "{'aapl': 1, 'msft': 1, 'c': 0, 'ge': 0, 'gs': 0}"
      ]
     },
     "metadata": {},
     "output_type": "display_data"
    },
    {
     "data": {
      "text/plain": [
       "{'aapl': 1, 'msft': 0, 'c': 0, 'ge': 1, 'gs': 0}"
      ]
     },
     "metadata": {},
     "output_type": "display_data"
    },
    {
     "data": {
      "text/plain": [
       "{'aapl': 1, 'msft': 0, 'c': 0, 'ge': 0, 'gs': 0}"
      ]
     },
     "metadata": {},
     "output_type": "display_data"
    },
    {
     "data": {
      "text/plain": [
       "{'aapl': 1, 'msft': 0, 'c': 0, 'ge': 1, 'gs': 0}"
      ]
     },
     "metadata": {},
     "output_type": "display_data"
    },
    {
     "name": "stdout",
     "output_type": "stream",
     "text": [
      "0% [#####                         ] 100% | ETA: 00:00:01"
     ]
    },
    {
     "data": {
      "text/plain": [
       "{'aapl': 1, 'msft': 1, 'c': 0, 'ge': 0, 'gs': 0}"
      ]
     },
     "metadata": {},
     "output_type": "display_data"
    },
    {
     "data": {
      "text/plain": [
       "{'aapl': 1, 'msft': 1, 'c': 0, 'ge': 0, 'gs': 0}"
      ]
     },
     "metadata": {},
     "output_type": "display_data"
    },
    {
     "data": {
      "text/plain": [
       "{'aapl': 1, 'msft': 1, 'c': 0, 'ge': 1, 'gs': 0}"
      ]
     },
     "metadata": {},
     "output_type": "display_data"
    },
    {
     "data": {
      "text/plain": [
       "{'aapl': 1, 'msft': 1, 'c': 0, 'ge': 1, 'gs': 0}"
      ]
     },
     "metadata": {},
     "output_type": "display_data"
    },
    {
     "data": {
      "text/plain": [
       "{'aapl': 1, 'msft': 1, 'c': 0, 'ge': 1, 'gs': 0}"
      ]
     },
     "metadata": {},
     "output_type": "display_data"
    },
    {
     "name": "stdout",
     "output_type": "stream",
     "text": [
      "0% [######                        ] 100% | ETA: 00:00:01"
     ]
    },
    {
     "data": {
      "text/plain": [
       "{'aapl': 1, 'msft': 1, 'c': 0, 'ge': 1, 'gs': 0}"
      ]
     },
     "metadata": {},
     "output_type": "display_data"
    },
    {
     "data": {
      "text/plain": [
       "{'aapl': 1, 'msft': 1, 'c': 0, 'ge': 1, 'gs': 0}"
      ]
     },
     "metadata": {},
     "output_type": "display_data"
    },
    {
     "data": {
      "text/plain": [
       "{'aapl': 1, 'msft': 1, 'c': 0, 'ge': 1, 'gs': 0}"
      ]
     },
     "metadata": {},
     "output_type": "display_data"
    },
    {
     "data": {
      "text/plain": [
       "{'aapl': 1, 'msft': 1, 'c': 1, 'ge': 1, 'gs': 1}"
      ]
     },
     "metadata": {},
     "output_type": "display_data"
    },
    {
     "data": {
      "text/plain": [
       "{'aapl': 1, 'msft': 1, 'c': 1, 'ge': 1, 'gs': 1}"
      ]
     },
     "metadata": {},
     "output_type": "display_data"
    },
    {
     "name": "stdout",
     "output_type": "stream",
     "text": [
      "0% [#######                       ] 100% | ETA: 00:00:00"
     ]
    },
    {
     "data": {
      "text/plain": [
       "{'aapl': 1, 'msft': 1, 'c': 1, 'ge': 1, 'gs': 1}"
      ]
     },
     "metadata": {},
     "output_type": "display_data"
    },
    {
     "data": {
      "text/plain": [
       "{'aapl': 1, 'msft': 1, 'c': 1, 'ge': 1, 'gs': 1}"
      ]
     },
     "metadata": {},
     "output_type": "display_data"
    },
    {
     "data": {
      "text/plain": [
       "{'aapl': 1, 'msft': 0, 'c': 1, 'ge': 1, 'gs': 1}"
      ]
     },
     "metadata": {},
     "output_type": "display_data"
    },
    {
     "data": {
      "text/plain": [
       "{'aapl': 0, 'msft': 0, 'c': 1, 'ge': 1, 'gs': 1}"
      ]
     },
     "metadata": {},
     "output_type": "display_data"
    },
    {
     "data": {
      "text/plain": [
       "{'aapl': 0, 'msft': 0, 'c': 1, 'ge': 1, 'gs': 1}"
      ]
     },
     "metadata": {},
     "output_type": "display_data"
    },
    {
     "name": "stdout",
     "output_type": "stream",
     "text": [
      "0% [########                      ] 100% | ETA: 00:00:00"
     ]
    },
    {
     "data": {
      "text/plain": [
       "{'aapl': 0, 'msft': 1, 'c': 1, 'ge': 1, 'gs': 1}"
      ]
     },
     "metadata": {},
     "output_type": "display_data"
    },
    {
     "data": {
      "text/plain": [
       "{'aapl': 0, 'msft': 1, 'c': 1, 'ge': 1, 'gs': 1}"
      ]
     },
     "metadata": {},
     "output_type": "display_data"
    },
    {
     "data": {
      "text/plain": [
       "{'aapl': 0, 'msft': 1, 'c': 1, 'ge': 1, 'gs': 1}"
      ]
     },
     "metadata": {},
     "output_type": "display_data"
    },
    {
     "data": {
      "text/plain": [
       "{'aapl': 0, 'msft': 1, 'c': 1, 'ge': 1, 'gs': 1}"
      ]
     },
     "metadata": {},
     "output_type": "display_data"
    },
    {
     "data": {
      "text/plain": [
       "{'aapl': 0, 'msft': 1, 'c': 1, 'ge': 1, 'gs': 1}"
      ]
     },
     "metadata": {},
     "output_type": "display_data"
    },
    {
     "name": "stdout",
     "output_type": "stream",
     "text": [
      "0% [#########                     ] 100% | ETA: 00:00:00"
     ]
    },
    {
     "data": {
      "text/plain": [
       "{'aapl': 0, 'msft': 1, 'c': 1, 'ge': 1, 'gs': 1}"
      ]
     },
     "metadata": {},
     "output_type": "display_data"
    },
    {
     "data": {
      "text/plain": [
       "{'aapl': 0, 'msft': 1, 'c': 1, 'ge': 1, 'gs': 1}"
      ]
     },
     "metadata": {},
     "output_type": "display_data"
    },
    {
     "data": {
      "text/plain": [
       "{'aapl': 0, 'msft': 1, 'c': 1, 'ge': 1, 'gs': 1}"
      ]
     },
     "metadata": {},
     "output_type": "display_data"
    },
    {
     "data": {
      "text/plain": [
       "{'aapl': 1, 'msft': 1, 'c': 1, 'ge': 1, 'gs': 1}"
      ]
     },
     "metadata": {},
     "output_type": "display_data"
    },
    {
     "data": {
      "text/plain": [
       "{'aapl': 1, 'msft': 1, 'c': 1, 'ge': 1, 'gs': 1}"
      ]
     },
     "metadata": {},
     "output_type": "display_data"
    },
    {
     "name": "stdout",
     "output_type": "stream",
     "text": [
      "0% [##########                    ] 100% | ETA: 00:00:00"
     ]
    },
    {
     "data": {
      "text/plain": [
       "{'aapl': 1, 'msft': 1, 'c': 1, 'ge': 1, 'gs': 1}"
      ]
     },
     "metadata": {},
     "output_type": "display_data"
    },
    {
     "data": {
      "text/plain": [
       "{'aapl': 1, 'msft': 1, 'c': 1, 'ge': 1, 'gs': 1}"
      ]
     },
     "metadata": {},
     "output_type": "display_data"
    },
    {
     "data": {
      "text/plain": [
       "{'aapl': 1, 'msft': 1, 'c': 1, 'ge': 1, 'gs': 1}"
      ]
     },
     "metadata": {},
     "output_type": "display_data"
    },
    {
     "data": {
      "text/plain": [
       "{'aapl': 1, 'msft': 1, 'c': 0, 'ge': 1, 'gs': 0}"
      ]
     },
     "metadata": {},
     "output_type": "display_data"
    },
    {
     "data": {
      "text/plain": [
       "{'aapl': 1, 'msft': 1, 'c': 0, 'ge': 1, 'gs': 1}"
      ]
     },
     "metadata": {},
     "output_type": "display_data"
    },
    {
     "name": "stdout",
     "output_type": "stream",
     "text": [
      "0% [###########                   ] 100% | ETA: 00:00:00"
     ]
    },
    {
     "data": {
      "text/plain": [
       "{'aapl': 1, 'msft': 1, 'c': 0, 'ge': 1, 'gs': 1}"
      ]
     },
     "metadata": {},
     "output_type": "display_data"
    },
    {
     "data": {
      "text/plain": [
       "{'aapl': 1, 'msft': 1, 'c': 1, 'ge': 1, 'gs': 1}"
      ]
     },
     "metadata": {},
     "output_type": "display_data"
    },
    {
     "data": {
      "text/plain": [
       "{'aapl': 1, 'msft': 1, 'c': 1, 'ge': 1, 'gs': 1}"
      ]
     },
     "metadata": {},
     "output_type": "display_data"
    },
    {
     "data": {
      "text/plain": [
       "{'aapl': 1, 'msft': 1, 'c': 1, 'ge': 1, 'gs': 1}"
      ]
     },
     "metadata": {},
     "output_type": "display_data"
    },
    {
     "data": {
      "text/plain": [
       "{'aapl': 1, 'msft': 1, 'c': 1, 'ge': 1, 'gs': 1}"
      ]
     },
     "metadata": {},
     "output_type": "display_data"
    },
    {
     "name": "stdout",
     "output_type": "stream",
     "text": [
      "0% [############                  ] 100% | ETA: 00:00:00"
     ]
    },
    {
     "data": {
      "text/plain": [
       "{'aapl': 1, 'msft': 1, 'c': 1, 'ge': 0, 'gs': 1}"
      ]
     },
     "metadata": {},
     "output_type": "display_data"
    },
    {
     "data": {
      "text/plain": [
       "{'aapl': 1, 'msft': 1, 'c': 1, 'ge': 1, 'gs': 1}"
      ]
     },
     "metadata": {},
     "output_type": "display_data"
    },
    {
     "data": {
      "text/plain": [
       "{'aapl': 1, 'msft': 1, 'c': 1, 'ge': 1, 'gs': 1}"
      ]
     },
     "metadata": {},
     "output_type": "display_data"
    },
    {
     "data": {
      "text/plain": [
       "{'aapl': 1, 'msft': 1, 'c': 1, 'ge': 0, 'gs': 1}"
      ]
     },
     "metadata": {},
     "output_type": "display_data"
    },
    {
     "data": {
      "text/plain": [
       "{'aapl': 1, 'msft': 1, 'c': 1, 'ge': 1, 'gs': 1}"
      ]
     },
     "metadata": {},
     "output_type": "display_data"
    },
    {
     "name": "stdout",
     "output_type": "stream",
     "text": [
      "0% [#############                 ] 100% | ETA: 00:00:00"
     ]
    },
    {
     "data": {
      "text/plain": [
       "{'aapl': 1, 'msft': 1, 'c': 1, 'ge': 1, 'gs': 1}"
      ]
     },
     "metadata": {},
     "output_type": "display_data"
    },
    {
     "data": {
      "text/plain": [
       "{'aapl': 1, 'msft': 1, 'c': 1, 'ge': 1, 'gs': 1}"
      ]
     },
     "metadata": {},
     "output_type": "display_data"
    },
    {
     "data": {
      "text/plain": [
       "{'aapl': 1, 'msft': 1, 'c': 1, 'ge': 1, 'gs': 1}"
      ]
     },
     "metadata": {},
     "output_type": "display_data"
    },
    {
     "data": {
      "text/plain": [
       "{'aapl': 1, 'msft': 0, 'c': 0, 'ge': 0, 'gs': 1}"
      ]
     },
     "metadata": {},
     "output_type": "display_data"
    },
    {
     "data": {
      "text/plain": [
       "{'aapl': 1, 'msft': 1, 'c': 0, 'ge': 1, 'gs': 0}"
      ]
     },
     "metadata": {},
     "output_type": "display_data"
    },
    {
     "name": "stdout",
     "output_type": "stream",
     "text": [
      "0% [##############                ] 100% | ETA: 00:00:00"
     ]
    },
    {
     "data": {
      "text/plain": [
       "{'aapl': 1, 'msft': 1, 'c': 0, 'ge': 1, 'gs': 0}"
      ]
     },
     "metadata": {},
     "output_type": "display_data"
    },
    {
     "data": {
      "text/plain": [
       "{'aapl': 1, 'msft': 1, 'c': 1, 'ge': 1, 'gs': 1}"
      ]
     },
     "metadata": {},
     "output_type": "display_data"
    },
    {
     "data": {
      "text/plain": [
       "{'aapl': 0, 'msft': 1, 'c': 0, 'ge': 1, 'gs': 0}"
      ]
     },
     "metadata": {},
     "output_type": "display_data"
    },
    {
     "data": {
      "text/plain": [
       "{'aapl': 0, 'msft': 1, 'c': 0, 'ge': 1, 'gs': 0}"
      ]
     },
     "metadata": {},
     "output_type": "display_data"
    },
    {
     "data": {
      "text/plain": [
       "{'aapl': 0, 'msft': 1, 'c': 0, 'ge': 1, 'gs': 0}"
      ]
     },
     "metadata": {},
     "output_type": "display_data"
    },
    {
     "name": "stdout",
     "output_type": "stream",
     "text": [
      "0% [###############               ] 100% | ETA: 00:00:00"
     ]
    },
    {
     "data": {
      "text/plain": [
       "{'aapl': 0, 'msft': 1, 'c': 0, 'ge': 1, 'gs': 0}"
      ]
     },
     "metadata": {},
     "output_type": "display_data"
    },
    {
     "data": {
      "text/plain": [
       "{'aapl': 0, 'msft': 1, 'c': 0, 'ge': 1, 'gs': 0}"
      ]
     },
     "metadata": {},
     "output_type": "display_data"
    },
    {
     "data": {
      "text/plain": [
       "{'aapl': 0, 'msft': 1, 'c': 0, 'ge': 1, 'gs': 0}"
      ]
     },
     "metadata": {},
     "output_type": "display_data"
    },
    {
     "data": {
      "text/plain": [
       "{'aapl': 0, 'msft': 1, 'c': 0, 'ge': 1, 'gs': 0}"
      ]
     },
     "metadata": {},
     "output_type": "display_data"
    },
    {
     "data": {
      "text/plain": [
       "{'aapl': 0, 'msft': 1, 'c': 0, 'ge': 1, 'gs': 0}"
      ]
     },
     "metadata": {},
     "output_type": "display_data"
    },
    {
     "name": "stdout",
     "output_type": "stream",
     "text": [
      "0% [################              ] 100% | ETA: 00:00:00"
     ]
    },
    {
     "data": {
      "text/plain": [
       "{'aapl': 0, 'msft': 1, 'c': 0, 'ge': 1, 'gs': 0}"
      ]
     },
     "metadata": {},
     "output_type": "display_data"
    },
    {
     "data": {
      "text/plain": [
       "{'aapl': 1, 'msft': 1, 'c': 0, 'ge': 1, 'gs': 0}"
      ]
     },
     "metadata": {},
     "output_type": "display_data"
    },
    {
     "data": {
      "text/plain": [
       "{'aapl': 0, 'msft': 1, 'c': 0, 'ge': 1, 'gs': 0}"
      ]
     },
     "metadata": {},
     "output_type": "display_data"
    },
    {
     "data": {
      "text/plain": [
       "{'aapl': 0, 'msft': 1, 'c': 1, 'ge': 1, 'gs': 1}"
      ]
     },
     "metadata": {},
     "output_type": "display_data"
    },
    {
     "data": {
      "text/plain": [
       "{'aapl': 1, 'msft': 1, 'c': 1, 'ge': 1, 'gs': 1}"
      ]
     },
     "metadata": {},
     "output_type": "display_data"
    },
    {
     "name": "stdout",
     "output_type": "stream",
     "text": [
      "0% [#################             ] 100% | ETA: 00:00:00"
     ]
    },
    {
     "data": {
      "text/plain": [
       "{'aapl': 1, 'msft': 1, 'c': 1, 'ge': 1, 'gs': 1}"
      ]
     },
     "metadata": {},
     "output_type": "display_data"
    },
    {
     "data": {
      "text/plain": [
       "{'aapl': 1, 'msft': 1, 'c': 1, 'ge': 1, 'gs': 1}"
      ]
     },
     "metadata": {},
     "output_type": "display_data"
    },
    {
     "data": {
      "text/plain": [
       "{'aapl': 1, 'msft': 1, 'c': 1, 'ge': 0, 'gs': 1}"
      ]
     },
     "metadata": {},
     "output_type": "display_data"
    },
    {
     "data": {
      "text/plain": [
       "{'aapl': 1, 'msft': 1, 'c': 1, 'ge': 0, 'gs': 1}"
      ]
     },
     "metadata": {},
     "output_type": "display_data"
    },
    {
     "data": {
      "text/plain": [
       "{'aapl': 1, 'msft': 1, 'c': 1, 'ge': 0, 'gs': 1}"
      ]
     },
     "metadata": {},
     "output_type": "display_data"
    },
    {
     "name": "stdout",
     "output_type": "stream",
     "text": [
      "0% [##################            ] 100% | ETA: 00:00:00"
     ]
    },
    {
     "data": {
      "text/plain": [
       "{'aapl': 1, 'msft': 1, 'c': 1, 'ge': 0, 'gs': 1}"
      ]
     },
     "metadata": {},
     "output_type": "display_data"
    },
    {
     "data": {
      "text/plain": [
       "{'aapl': 1, 'msft': 1, 'c': 1, 'ge': 0, 'gs': 1}"
      ]
     },
     "metadata": {},
     "output_type": "display_data"
    },
    {
     "data": {
      "text/plain": [
       "{'aapl': 1, 'msft': 1, 'c': 1, 'ge': 0, 'gs': 1}"
      ]
     },
     "metadata": {},
     "output_type": "display_data"
    },
    {
     "data": {
      "text/plain": [
       "{'aapl': 1, 'msft': 1, 'c': 1, 'ge': 0, 'gs': 1}"
      ]
     },
     "metadata": {},
     "output_type": "display_data"
    },
    {
     "data": {
      "text/plain": [
       "{'aapl': 1, 'msft': 1, 'c': 1, 'ge': 0, 'gs': 1}"
      ]
     },
     "metadata": {},
     "output_type": "display_data"
    },
    {
     "name": "stdout",
     "output_type": "stream",
     "text": [
      "0% [###################           ] 100% | ETA: 00:00:00"
     ]
    },
    {
     "data": {
      "text/plain": [
       "{'aapl': 1, 'msft': 1, 'c': 1, 'ge': 0, 'gs': 1}"
      ]
     },
     "metadata": {},
     "output_type": "display_data"
    },
    {
     "data": {
      "text/plain": [
       "{'aapl': 1, 'msft': 1, 'c': 1, 'ge': 0, 'gs': 1}"
      ]
     },
     "metadata": {},
     "output_type": "display_data"
    },
    {
     "data": {
      "text/plain": [
       "{'aapl': 1, 'msft': 1, 'c': 1, 'ge': 0, 'gs': 1}"
      ]
     },
     "metadata": {},
     "output_type": "display_data"
    },
    {
     "data": {
      "text/plain": [
       "{'aapl': 1, 'msft': 1, 'c': 1, 'ge': 0, 'gs': 1}"
      ]
     },
     "metadata": {},
     "output_type": "display_data"
    },
    {
     "data": {
      "text/plain": [
       "{'aapl': 1, 'msft': 1, 'c': 1, 'ge': 0, 'gs': 1}"
      ]
     },
     "metadata": {},
     "output_type": "display_data"
    },
    {
     "name": "stdout",
     "output_type": "stream",
     "text": [
      "0% [####################          ] 100% | ETA: 00:00:00"
     ]
    },
    {
     "data": {
      "text/plain": [
       "{'aapl': 1, 'msft': 1, 'c': 1, 'ge': 0, 'gs': 1}"
      ]
     },
     "metadata": {},
     "output_type": "display_data"
    },
    {
     "data": {
      "text/plain": [
       "{'aapl': 1, 'msft': 1, 'c': 1, 'ge': 0, 'gs': 1}"
      ]
     },
     "metadata": {},
     "output_type": "display_data"
    },
    {
     "data": {
      "text/plain": [
       "{'aapl': 1, 'msft': 1, 'c': 0, 'ge': 0, 'gs': 0}"
      ]
     },
     "metadata": {},
     "output_type": "display_data"
    },
    {
     "data": {
      "text/plain": [
       "{'aapl': 1, 'msft': 1, 'c': 1, 'ge': 0, 'gs': 1}"
      ]
     },
     "metadata": {},
     "output_type": "display_data"
    },
    {
     "data": {
      "text/plain": [
       "{'aapl': 1, 'msft': 1, 'c': 1, 'ge': 0, 'gs': 1}"
      ]
     },
     "metadata": {},
     "output_type": "display_data"
    },
    {
     "name": "stdout",
     "output_type": "stream",
     "text": [
      "0% [#####################         ] 100% | ETA: 00:00:00"
     ]
    },
    {
     "data": {
      "text/plain": [
       "{'aapl': 1, 'msft': 1, 'c': 0, 'ge': 0, 'gs': 0}"
      ]
     },
     "metadata": {},
     "output_type": "display_data"
    },
    {
     "data": {
      "text/plain": [
       "{'aapl': 1, 'msft': 1, 'c': 0, 'ge': 0, 'gs': 0}"
      ]
     },
     "metadata": {},
     "output_type": "display_data"
    },
    {
     "data": {
      "text/plain": [
       "{'aapl': 1, 'msft': 1, 'c': 0, 'ge': 0, 'gs': 0}"
      ]
     },
     "metadata": {},
     "output_type": "display_data"
    },
    {
     "data": {
      "text/plain": [
       "{'aapl': 0, 'msft': 1, 'c': 0, 'ge': 0, 'gs': 0}"
      ]
     },
     "metadata": {},
     "output_type": "display_data"
    },
    {
     "data": {
      "text/plain": [
       "{'aapl': 1, 'msft': 1, 'c': 0, 'ge': 0, 'gs': 0}"
      ]
     },
     "metadata": {},
     "output_type": "display_data"
    },
    {
     "name": "stdout",
     "output_type": "stream",
     "text": [
      "0% [######################        ] 100% | ETA: 00:00:00"
     ]
    },
    {
     "data": {
      "text/plain": [
       "{'aapl': 1, 'msft': 1, 'c': 0, 'ge': 0, 'gs': 0}"
      ]
     },
     "metadata": {},
     "output_type": "display_data"
    },
    {
     "data": {
      "text/plain": [
       "{'aapl': 1, 'msft': 1, 'c': 0, 'ge': 0, 'gs': 0}"
      ]
     },
     "metadata": {},
     "output_type": "display_data"
    },
    {
     "data": {
      "text/plain": [
       "{'aapl': 1, 'msft': 1, 'c': 1, 'ge': 0, 'gs': 0}"
      ]
     },
     "metadata": {},
     "output_type": "display_data"
    },
    {
     "data": {
      "text/plain": [
       "{'aapl': 0, 'msft': 1, 'c': 0, 'ge': 0, 'gs': 0}"
      ]
     },
     "metadata": {},
     "output_type": "display_data"
    },
    {
     "data": {
      "text/plain": [
       "{'aapl': 1, 'msft': 1, 'c': 1, 'ge': 0, 'gs': 0}"
      ]
     },
     "metadata": {},
     "output_type": "display_data"
    },
    {
     "name": "stdout",
     "output_type": "stream",
     "text": [
      "0% [#######################       ] 100% | ETA: 00:00:00"
     ]
    },
    {
     "data": {
      "text/plain": [
       "{'aapl': 0, 'msft': 1, 'c': 0, 'ge': 0, 'gs': 0}"
      ]
     },
     "metadata": {},
     "output_type": "display_data"
    },
    {
     "data": {
      "text/plain": [
       "{'aapl': 0, 'msft': 1, 'c': 0, 'ge': 0, 'gs': 0}"
      ]
     },
     "metadata": {},
     "output_type": "display_data"
    },
    {
     "data": {
      "text/plain": [
       "{'aapl': 1, 'msft': 1, 'c': 0, 'ge': 0, 'gs': 0}"
      ]
     },
     "metadata": {},
     "output_type": "display_data"
    },
    {
     "data": {
      "text/plain": [
       "{'aapl': 1, 'msft': 1, 'c': 1, 'ge': 1, 'gs': 0}"
      ]
     },
     "metadata": {},
     "output_type": "display_data"
    },
    {
     "data": {
      "text/plain": [
       "{'aapl': 1, 'msft': 1, 'c': 1, 'ge': 1, 'gs': 1}"
      ]
     },
     "metadata": {},
     "output_type": "display_data"
    },
    {
     "name": "stdout",
     "output_type": "stream",
     "text": [
      "0% [########################      ] 100% | ETA: 00:00:00"
     ]
    },
    {
     "data": {
      "text/plain": [
       "{'aapl': 1, 'msft': 1, 'c': 1, 'ge': 1, 'gs': 1}"
      ]
     },
     "metadata": {},
     "output_type": "display_data"
    },
    {
     "data": {
      "text/plain": [
       "{'aapl': 1, 'msft': 1, 'c': 1, 'ge': 1, 'gs': 1}"
      ]
     },
     "metadata": {},
     "output_type": "display_data"
    },
    {
     "name": "stdout",
     "output_type": "stream",
     "text": [
      "0% [##############################] 100% | ETA: 00:00:00\n",
      "Total time elapsed: 00:00:01\n"
     ]
    },
    {
     "name": "stderr",
     "output_type": "stream",
     "text": [
      "c:\\Users\\dunca\\anaconda3\\lib\\site-packages\\pandas\\core\\arraylike.py:397: RuntimeWarning: invalid value encountered in log\n",
      "  result = getattr(ufunc, method)(*inputs, **kwargs)\n",
      "c:\\Users\\dunca\\anaconda3\\lib\\site-packages\\ffn\\core.py:1376: RuntimeWarning: invalid value encountered in double_scalars\n",
      "  return (prices.iloc[-1] / prices.iloc[0]) ** (1 / year_frac(start, end)) - 1\n",
      "c:\\Users\\dunca\\anaconda3\\lib\\site-packages\\ffn\\core.py:1376: RuntimeWarning: invalid value encountered in double_scalars\n",
      "  return (prices.iloc[-1] / prices.iloc[0]) ** (1 / year_frac(start, end)) - 1\n",
      "c:\\Users\\dunca\\anaconda3\\lib\\site-packages\\pandas\\core\\arraylike.py:397: RuntimeWarning: invalid value encountered in log\n",
      "  result = getattr(ufunc, method)(*inputs, **kwargs)\n",
      "c:\\Users\\dunca\\anaconda3\\lib\\site-packages\\ffn\\core.py:1376: RuntimeWarning: invalid value encountered in double_scalars\n",
      "  return (prices.iloc[-1] / prices.iloc[0]) ** (1 / year_frac(start, end)) - 1\n",
      "c:\\Users\\dunca\\anaconda3\\lib\\site-packages\\ffn\\core.py:1376: RuntimeWarning: invalid value encountered in double_scalars\n",
      "  return (prices.iloc[-1] / prices.iloc[0]) ** (1 / year_frac(start, end)) - 1\n"
     ]
    }
   ],
   "source": [
    "s = bt.Strategy(\n",
    "    'example1',\n",
    "    [\n",
    "        runMonthlyAlgo,\n",
    "        signalAlgo,\n",
    "        weighFromSignalAlgo,\n",
    "        rebalAlgo\n",
    "    ]\n",
    ")\n",
    "s.perm['tickers'] = list(pdf.columns)\n",
    "t = bt.Backtest(s, pdf, integer_positions=False, progress_bar=True)\n",
    "res = bt.run(t)"
   ]
  },
  {
   "cell_type": "code",
   "execution_count": 7,
   "metadata": {},
   "outputs": [
    {
     "data": {
      "text/plain": [
       "[<matplotlib.lines.Line2D at 0x22906c7c4f0>]"
      ]
     },
     "execution_count": 7,
     "metadata": {},
     "output_type": "execute_result"
    },
    {
     "data": {
      "image/png": "[encoded data removed]",
      "text/plain": [
       "<Figure size 432x288 with 1 Axes>"
      ]
     },
     "metadata": {
      "needs_background": "light"
     },
     "output_type": "display_data"
    }
   ],
   "source": [
    "plt.plot(res.prices)"
   ]
  },
  {
   "cell_type": "code",
   "execution_count": 8,
   "metadata": {},
   "outputs": [
    {
     "data": {
      "image/png": "[encoded data removed]",
      "text/plain": [
       "<Figure size 1080x360 with 1 Axes>"
      ]
     },
     "metadata": {
      "needs_background": "light"
     },
     "output_type": "display_data"
    }
   ],
   "source": [
    "res.plot_security_weights()\n",
    "#res.prices.tail()\n"
   ]
  },
  {
   "cell_type": "code",
   "execution_count": 9,
   "metadata": {},
   "outputs": [
    {
     "data": {
      "text/html": [
       "<div>\n",
       "<style scoped>\n",
       "    .dataframe tbody tr th:only-of-type {\n",
       "        vertical-align: middle;\n",
       "    }\n",
       "\n",
       "    .dataframe tbody tr th {\n",
       "        vertical-align: top;\n",
       "    }\n",
       "\n",
       "    .dataframe thead th {\n",
       "        text-align: right;\n",
       "    }\n",
       "</style>\n",
       "<table border=\"1\" class=\"dataframe\">\n",
       "  <thead>\n",
       "    <tr style=\"text-align: right;\">\n",
       "      <th></th>\n",
       "      <th>example1</th>\n",
       "    </tr>\n",
       "  </thead>\n",
       "  <tbody>\n",
       "    <tr>\n",
       "      <th>start</th>\n",
       "      <td>2010-01-03 00:00:00</td>\n",
       "    </tr>\n",
       "    <tr>\n",
       "      <th>end</th>\n",
       "      <td>2022-08-02 00:00:00</td>\n",
       "    </tr>\n",
       "    <tr>\n",
       "      <th>rf</th>\n",
       "      <td>0.0</td>\n",
       "    </tr>\n",
       "    <tr>\n",
       "      <th>total_return</th>\n",
       "      <td>-2.226005</td>\n",
       "    </tr>\n",
       "    <tr>\n",
       "      <th>cagr</th>\n",
       "      <td>NaN</td>\n",
       "    </tr>\n",
       "    <tr>\n",
       "      <th>max_drawdown</th>\n",
       "      <td>-1.189799</td>\n",
       "    </tr>\n",
       "    <tr>\n",
       "      <th>calmar</th>\n",
       "      <td>NaN</td>\n",
       "    </tr>\n",
       "    <tr>\n",
       "      <th>mtd</th>\n",
       "      <td>0.0</td>\n",
       "    </tr>\n",
       "    <tr>\n",
       "      <th>three_month</th>\n",
       "      <td>0.0</td>\n",
       "    </tr>\n",
       "    <tr>\n",
       "      <th>six_month</th>\n",
       "      <td>0.0</td>\n",
       "    </tr>\n",
       "    <tr>\n",
       "      <th>ytd</th>\n",
       "      <td>0.0</td>\n",
       "    </tr>\n",
       "    <tr>\n",
       "      <th>one_year</th>\n",
       "      <td>0.0</td>\n",
       "    </tr>\n",
       "    <tr>\n",
       "      <th>three_year</th>\n",
       "      <td>NaN</td>\n",
       "    </tr>\n",
       "    <tr>\n",
       "      <th>five_year</th>\n",
       "      <td>NaN</td>\n",
       "    </tr>\n",
       "    <tr>\n",
       "      <th>ten_year</th>\n",
       "      <td>NaN</td>\n",
       "    </tr>\n",
       "    <tr>\n",
       "      <th>incep</th>\n",
       "      <td>NaN</td>\n",
       "    </tr>\n",
       "    <tr>\n",
       "      <th>daily_sharpe</th>\n",
       "      <td>0.165172</td>\n",
       "    </tr>\n",
       "    <tr>\n",
       "      <th>daily_sortino</th>\n",
       "      <td>0.234052</td>\n",
       "    </tr>\n",
       "    <tr>\n",
       "      <th>daily_mean</th>\n",
       "      <td>0.305552</td>\n",
       "    </tr>\n",
       "    <tr>\n",
       "      <th>daily_vol</th>\n",
       "      <td>1.849902</td>\n",
       "    </tr>\n",
       "    <tr>\n",
       "      <th>daily_skew</th>\n",
       "      <td>-2.969362</td>\n",
       "    </tr>\n",
       "    <tr>\n",
       "      <th>daily_kurt</th>\n",
       "      <td>815.739384</td>\n",
       "    </tr>\n",
       "    <tr>\n",
       "      <th>best_day</th>\n",
       "      <td>3.70177</td>\n",
       "    </tr>\n",
       "    <tr>\n",
       "      <th>worst_day</th>\n",
       "      <td>-4.098718</td>\n",
       "    </tr>\n",
       "    <tr>\n",
       "      <th>monthly_sharpe</th>\n",
       "      <td>0.111555</td>\n",
       "    </tr>\n",
       "    <tr>\n",
       "      <th>monthly_sortino</th>\n",
       "      <td>0.139162</td>\n",
       "    </tr>\n",
       "    <tr>\n",
       "      <th>monthly_mean</th>\n",
       "      <td>0.076503</td>\n",
       "    </tr>\n",
       "    <tr>\n",
       "      <th>monthly_vol</th>\n",
       "      <td>0.685785</td>\n",
       "    </tr>\n",
       "    <tr>\n",
       "      <th>monthly_skew</th>\n",
       "      <td>-3.768345</td>\n",
       "    </tr>\n",
       "    <tr>\n",
       "      <th>monthly_kurt</th>\n",
       "      <td>28.642536</td>\n",
       "    </tr>\n",
       "    <tr>\n",
       "      <th>best_month</th>\n",
       "      <td>0.497246</td>\n",
       "    </tr>\n",
       "    <tr>\n",
       "      <th>worst_month</th>\n",
       "      <td>-1.598045</td>\n",
       "    </tr>\n",
       "    <tr>\n",
       "      <th>yearly_sharpe</th>\n",
       "      <td>0.218344</td>\n",
       "    </tr>\n",
       "    <tr>\n",
       "      <th>yearly_sortino</th>\n",
       "      <td>0.44973</td>\n",
       "    </tr>\n",
       "    <tr>\n",
       "      <th>yearly_mean</th>\n",
       "      <td>0.173276</td>\n",
       "    </tr>\n",
       "    <tr>\n",
       "      <th>yearly_vol</th>\n",
       "      <td>0.793592</td>\n",
       "    </tr>\n",
       "    <tr>\n",
       "      <th>yearly_skew</th>\n",
       "      <td>-0.040009</td>\n",
       "    </tr>\n",
       "    <tr>\n",
       "      <th>yearly_kurt</th>\n",
       "      <td>-0.575743</td>\n",
       "    </tr>\n",
       "    <tr>\n",
       "      <th>best_year</th>\n",
       "      <td>1.2791</td>\n",
       "    </tr>\n",
       "    <tr>\n",
       "      <th>worst_year</th>\n",
       "      <td>-1.286587</td>\n",
       "    </tr>\n",
       "    <tr>\n",
       "      <th>avg_drawdown</th>\n",
       "      <td>-0.142412</td>\n",
       "    </tr>\n",
       "    <tr>\n",
       "      <th>avg_drawdown_days</th>\n",
       "      <td>80.44</td>\n",
       "    </tr>\n",
       "    <tr>\n",
       "      <th>avg_up_month</th>\n",
       "      <td>0.126741</td>\n",
       "    </tr>\n",
       "    <tr>\n",
       "      <th>avg_down_month</th>\n",
       "      <td>-0.094908</td>\n",
       "    </tr>\n",
       "    <tr>\n",
       "      <th>win_year_perc</th>\n",
       "      <td>0.416667</td>\n",
       "    </tr>\n",
       "    <tr>\n",
       "      <th>twelve_month_win_perc</th>\n",
       "      <td>0.503546</td>\n",
       "    </tr>\n",
       "  </tbody>\n",
       "</table>\n",
       "</div>"
      ],
      "text/plain": [
       "                                  example1\n",
       "start                  2010-01-03 00:00:00\n",
       "end                    2022-08-02 00:00:00\n",
       "rf                                     0.0\n",
       "total_return                     -2.226005\n",
       "cagr                                   NaN\n",
       "max_drawdown                     -1.189799\n",
       "calmar                                 NaN\n",
       "mtd                                    0.0\n",
       "three_month                            0.0\n",
       "six_month                              0.0\n",
       "ytd                                    0.0\n",
       "one_year                               0.0\n",
       "three_year                             NaN\n",
       "five_year                              NaN\n",
       "ten_year                               NaN\n",
       "incep                                  NaN\n",
       "daily_sharpe                      0.165172\n",
       "daily_sortino                     0.234052\n",
       "daily_mean                        0.305552\n",
       "daily_vol                         1.849902\n",
       "daily_skew                       -2.969362\n",
       "daily_kurt                      815.739384\n",
       "best_day                           3.70177\n",
       "worst_day                        -4.098718\n",
       "monthly_sharpe                    0.111555\n",
       "monthly_sortino                   0.139162\n",
       "monthly_mean                      0.076503\n",
       "monthly_vol                       0.685785\n",
       "monthly_skew                     -3.768345\n",
       "monthly_kurt                     28.642536\n",
       "best_month                        0.497246\n",
       "worst_month                      -1.598045\n",
       "yearly_sharpe                     0.218344\n",
       "yearly_sortino                     0.44973\n",
       "yearly_mean                       0.173276\n",
       "yearly_vol                        0.793592\n",
       "yearly_skew                      -0.040009\n",
       "yearly_kurt                      -0.575743\n",
       "best_year                           1.2791\n",
       "worst_year                       -1.286587\n",
       "avg_drawdown                     -0.142412\n",
       "avg_drawdown_days                    80.44\n",
       "avg_up_month                      0.126741\n",
       "avg_down_month                   -0.094908\n",
       "win_year_perc                     0.416667\n",
       "twelve_month_win_perc             0.503546"
      ]
     },
     "execution_count": 9,
     "metadata": {},
     "output_type": "execute_result"
    }
   ],
   "source": [
    "res.stats\n"
   ]
  },
  {
   "cell_type": "code",
   "execution_count": 10,
   "metadata": {},
   "outputs": [
    {
     "data": {
      "text/html": [
       "<div>\n",
       "<style scoped>\n",
       "    .dataframe tbody tr th:only-of-type {\n",
       "        vertical-align: middle;\n",
       "    }\n",
       "\n",
       "    .dataframe tbody tr th {\n",
       "        vertical-align: top;\n",
       "    }\n",
       "\n",
       "    .dataframe thead th {\n",
       "        text-align: right;\n",
       "    }\n",
       "</style>\n",
       "<table border=\"1\" class=\"dataframe\">\n",
       "  <thead>\n",
       "    <tr style=\"text-align: right;\">\n",
       "      <th></th>\n",
       "      <th>aapl</th>\n",
       "      <th>msft</th>\n",
       "      <th>c</th>\n",
       "      <th>ge</th>\n",
       "      <th>gs</th>\n",
       "    </tr>\n",
       "  </thead>\n",
       "  <tbody>\n",
       "    <tr>\n",
       "      <th>2010-01-03</th>\n",
       "      <td>0.0</td>\n",
       "      <td>0.0</td>\n",
       "      <td>0.0</td>\n",
       "      <td>0.0</td>\n",
       "      <td>0.0</td>\n",
       "    </tr>\n",
       "    <tr>\n",
       "      <th>2010-01-04</th>\n",
       "      <td>0.0</td>\n",
       "      <td>0.0</td>\n",
       "      <td>0.0</td>\n",
       "      <td>0.0</td>\n",
       "      <td>0.0</td>\n",
       "    </tr>\n",
       "    <tr>\n",
       "      <th>2010-01-05</th>\n",
       "      <td>0.0</td>\n",
       "      <td>0.0</td>\n",
       "      <td>0.0</td>\n",
       "      <td>0.0</td>\n",
       "      <td>0.0</td>\n",
       "    </tr>\n",
       "    <tr>\n",
       "      <th>2010-01-06</th>\n",
       "      <td>0.0</td>\n",
       "      <td>0.0</td>\n",
       "      <td>0.0</td>\n",
       "      <td>0.0</td>\n",
       "      <td>0.0</td>\n",
       "    </tr>\n",
       "    <tr>\n",
       "      <th>2010-01-07</th>\n",
       "      <td>0.0</td>\n",
       "      <td>0.0</td>\n",
       "      <td>0.0</td>\n",
       "      <td>0.0</td>\n",
       "      <td>0.0</td>\n",
       "    </tr>\n",
       "    <tr>\n",
       "      <th>...</th>\n",
       "      <td>...</td>\n",
       "      <td>...</td>\n",
       "      <td>...</td>\n",
       "      <td>...</td>\n",
       "      <td>...</td>\n",
       "    </tr>\n",
       "    <tr>\n",
       "      <th>2022-07-27</th>\n",
       "      <td>0.0</td>\n",
       "      <td>0.0</td>\n",
       "      <td>0.0</td>\n",
       "      <td>0.0</td>\n",
       "      <td>0.0</td>\n",
       "    </tr>\n",
       "    <tr>\n",
       "      <th>2022-07-28</th>\n",
       "      <td>0.0</td>\n",
       "      <td>0.0</td>\n",
       "      <td>0.0</td>\n",
       "      <td>0.0</td>\n",
       "      <td>0.0</td>\n",
       "    </tr>\n",
       "    <tr>\n",
       "      <th>2022-07-29</th>\n",
       "      <td>0.0</td>\n",
       "      <td>0.0</td>\n",
       "      <td>0.0</td>\n",
       "      <td>0.0</td>\n",
       "      <td>0.0</td>\n",
       "    </tr>\n",
       "    <tr>\n",
       "      <th>2022-08-01</th>\n",
       "      <td>0.0</td>\n",
       "      <td>0.0</td>\n",
       "      <td>0.0</td>\n",
       "      <td>0.0</td>\n",
       "      <td>0.0</td>\n",
       "    </tr>\n",
       "    <tr>\n",
       "      <th>2022-08-02</th>\n",
       "      <td>0.0</td>\n",
       "      <td>0.0</td>\n",
       "      <td>0.0</td>\n",
       "      <td>0.0</td>\n",
       "      <td>0.0</td>\n",
       "    </tr>\n",
       "  </tbody>\n",
       "</table>\n",
       "<p>3168 rows × 5 columns</p>\n",
       "</div>"
      ],
      "text/plain": [
       "            aapl  msft    c   ge   gs\n",
       "2010-01-03   0.0   0.0  0.0  0.0  0.0\n",
       "2010-01-04   0.0   0.0  0.0  0.0  0.0\n",
       "2010-01-05   0.0   0.0  0.0  0.0  0.0\n",
       "2010-01-06   0.0   0.0  0.0  0.0  0.0\n",
       "2010-01-07   0.0   0.0  0.0  0.0  0.0\n",
       "...          ...   ...  ...  ...  ...\n",
       "2022-07-27   0.0   0.0  0.0  0.0  0.0\n",
       "2022-07-28   0.0   0.0  0.0  0.0  0.0\n",
       "2022-07-29   0.0   0.0  0.0  0.0  0.0\n",
       "2022-08-01   0.0   0.0  0.0  0.0  0.0\n",
       "2022-08-02   0.0   0.0  0.0  0.0  0.0\n",
       "\n",
       "[3168 rows x 5 columns]"
      ]
     },
     "execution_count": 10,
     "metadata": {},
     "output_type": "execute_result"
    }
   ],
   "source": [
    "t.positions"
   ]
  }
 ],
 "metadata": {
  "kernelspec": {
   "display_name": "Python 3.9.12 ('base')",
   "language": "python",
   "name": "python3"
  },
  "language_info": {
   "codemirror_mode": {
    "name": "ipython",
    "version": 3
   },
   "file_extension": ".py",
   "mimetype": "text/x-python",
   "name": "python",
   "nbconvert_exporter": "python",
   "pygments_lexer": "ipython3",
   "version": "3.9.12"
  },
  "orig_nbformat": 4,
  "vscode": {
   "interpreter": {
    "hash": "ddcba560db9b672ce214481a63318c953b115d8df0a78b63871c3caa7cccae9f"
   }
  }
 },
 "nbformat": 4,
 "nbformat_minor": 2
}
