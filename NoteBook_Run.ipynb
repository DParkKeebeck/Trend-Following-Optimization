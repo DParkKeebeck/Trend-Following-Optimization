{
 "cells": [
  {
   "cell_type": "code",
   "execution_count": 5,
   "metadata": {},
   "outputs": [],
   "source": [
    "from backtesting import Backtest\n",
    "from backtesting.test import GOOG\n",
    "\n"
   ]
  },
  {
   "cell_type": "code",
   "execution_count": 6,
   "metadata": {},
   "outputs": [],
   "source": [
    "from run_TFO import SmaCross\n"
   ]
  },
  {
   "cell_type": "code",
   "execution_count": 7,
   "metadata": {},
   "outputs": [
    {
     "ename": "NameError",
     "evalue": "name 'SmaCross' is not defined",
     "output_type": "error",
     "traceback": [
      "\u001b[1;31m---------------------------------------------------------------------------\u001b[0m",
      "\u001b[1;31mNameError\u001b[0m                                 Traceback (most recent call last)",
      "\u001b[1;32mc:\\Users\\dunca\\Documents\\GitHub\\Trend-Following-Optimization\\NoteBook_Run.ipynb Cell 3\u001b[0m in \u001b[0;36m<cell line: 1>\u001b[1;34m()\u001b[0m\n\u001b[1;32m----> <a href='vscode-notebook-cell:/c%3A/Users/dunca/Documents/GitHub/Trend-Following-Optimization/NoteBook_Run.ipynb#ch0000002?line=0'>1</a>\u001b[0m bt \u001b[39m=\u001b[39m Backtest(GOOG, SmaCross, commission \u001b[39m=\u001b[39m \u001b[39m0.002\u001b[39m)\n",
      "\u001b[1;31mNameError\u001b[0m: name 'SmaCross' is not defined"
     ]
    }
   ],
   "source": [
    "bt = Backtest(GOOG, SmaCross, commission = 0.002)"
   ]
  }
 ],
 "metadata": {
  "kernelspec": {
   "display_name": "Python 3.9.12 ('base')",
   "language": "python",
   "name": "python3"
  },
  "language_info": {
   "codemirror_mode": {
    "name": "ipython",
    "version": 3
   },
   "file_extension": ".py",
   "mimetype": "text/x-python",
   "name": "python",
   "nbconvert_exporter": "python",
   "pygments_lexer": "ipython3",
   "version": "3.9.12"
  },
  "orig_nbformat": 4,
  "vscode": {
   "interpreter": {
    "hash": "ddcba560db9b672ce214481a63318c953b115d8df0a78b63871c3caa7cccae9f"
   }
  }
 },
 "nbformat": 4,
 "nbformat_minor": 2
}
