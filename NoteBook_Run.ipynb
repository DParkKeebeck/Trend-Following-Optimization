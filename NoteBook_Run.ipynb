{
 "cells": [
  {
   "cell_type": "code",
   "execution_count": 3,
   "metadata": {},
   "outputs": [],
   "source": [
    "import bt\n",
    "data = bt.get('aapl,msft,c,gs,ge', start='2010-01-01')"
   ]
  },
  {
   "cell_type": "code",
   "execution_count": 4,
   "metadata": {},
   "outputs": [],
   "source": [
    "import matplotlib.pyplot as plt\n",
    "%matplotlib inline \n",
    "\n",
    "#sma = data.rolling(window=21*12, center=False).median().shift(1)\n",
    "#plt.plot(data.index, data.aapl)\n",
    "#plt.plot(sma.index, sma.aapl)\n",
    "\n",
    "\n",
    "#sma = data.rolling(50).mean()\n",
    "#new_data = bt.merge(data, sma)\n",
    "#new_data.plot(figsize=(15, 5))\n"
   ]
  },
  {
   "cell_type": "code",
   "execution_count": 5,
   "metadata": {},
   "outputs": [],
   "source": [
    "#display(sma.tail())\n",
    "#data.rolling(window=252, center=False).median().tail()"
   ]
  },
  {
   "cell_type": "code",
   "execution_count": 6,
   "metadata": {},
   "outputs": [
    {
     "data": {
      "text/plain": [
       "\"# first we create the Strategy\\ns = bt.Strategy('above50sma', [bt.algos.SelectWhere(data > sma),\\n                               bt.algos.WeighEqually(),\\n                               bt.algos.Rebalance()])\\n\\n# now we create the Backtest\\nt = bt.Backtest(s, data)\\n\\n# and let's run it!\\nres = bt.run(t)\\nres.plot()\\nres.display()\\n\\n\""
      ]
     },
     "execution_count": 6,
     "metadata": {},
     "output_type": "execute_result"
    }
   ],
   "source": [
    "\"\"\"# first we create the Strategy\n",
    "s = bt.Strategy('above50sma', [bt.algos.SelectWhere(data > sma),\n",
    "                               bt.algos.WeighEqually(),\n",
    "                               bt.algos.Rebalance()])\n",
    "\n",
    "# now we create the Backtest\n",
    "t = bt.Backtest(s, data)\n",
    "\n",
    "# and let's run it!\n",
    "res = bt.run(t)\n",
    "res.plot()\n",
    "res.display()\n",
    "\n",
    "\"\"\""
   ]
  },
  {
   "cell_type": "code",
   "execution_count": 7,
   "metadata": {},
   "outputs": [
    {
     "name": "stdout",
     "output_type": "stream",
     "text": [
      "tsmom_invvol\n",
      "0% [############################# ] 100% | ETA: 00:00:00"
     ]
    }
   ],
   "source": [
    "from Trend_Algo import run_algo\n",
    "\n",
    "results = run_algo(data)\n",
    "\n"
   ]
  },
  {
   "cell_type": "code",
   "execution_count": 8,
   "metadata": {},
   "outputs": [
    {
     "data": {
      "text/plain": [
       "<matplotlib.legend.Legend at 0x2840fce9c70>"
      ]
     },
     "execution_count": 8,
     "metadata": {},
     "output_type": "execute_result"
    },
    {
     "data": {
      "image/png": "[encoded data removed]",
      "text/plain": [
       "<Figure size 432x288 with 1 Axes>"
      ]
     },
     "metadata": {
      "needs_background": "light"
     },
     "output_type": "display_data"
    }
   ],
   "source": [
    "\n",
    "plt.plot(results.prices, label='EW')\n",
    "\n",
    "plt.legend()\n",
    "\n",
    "#results.stats"
   ]
  }
 ],
 "metadata": {
  "kernelspec": {
   "display_name": "Python 3.9.12 ('base')",
   "language": "python",
   "name": "python3"
  },
  "language_info": {
   "codemirror_mode": {
    "name": "ipython",
    "version": 3
   },
   "file_extension": ".py",
   "mimetype": "text/x-python",
   "name": "python",
   "nbconvert_exporter": "python",
   "pygments_lexer": "ipython3",
   "version": "3.9.12"
  },
  "orig_nbformat": 4,
  "vscode": {
   "interpreter": {
    "hash": "ddcba560db9b672ce214481a63318c953b115d8df0a78b63871c3caa7cccae9f"
   }
  }
 },
 "nbformat": 4,
 "nbformat_minor": 2
}
